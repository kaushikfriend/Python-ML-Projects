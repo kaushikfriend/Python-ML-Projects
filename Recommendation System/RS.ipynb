{
 "cells": [
  {
   "cell_type": "markdown",
   "metadata": {
    "toc": true
   },
   "source": [
    "<h1>Table of Contents<span class=\"tocSkip\"></span></h1>\n",
    "<div class=\"toc\"><ul class=\"toc-item\"><li><span><a href=\"#Movie-Recommendation-System\" data-toc-modified-id=\"Movie-Recommendation-System-1\"><span class=\"toc-item-num\">1&nbsp;&nbsp;</span>Movie Recommendation System</a></span><ul class=\"toc-item\"><li><span><a href=\"#Problem-Statment\" data-toc-modified-id=\"Problem-Statment-1.1\"><span class=\"toc-item-num\">1.1&nbsp;&nbsp;</span>Problem Statment</a></span><ul class=\"toc-item\"><li><span><a href=\"#We-have-to-recommended-movie-based-on-given-datasets,-3-different-types-of-dataset-availables-(-Users,-Movies-&amp;-User-Ratings)\" data-toc-modified-id=\"We-have-to-recommended-movie-based-on-given-datasets,-3-different-types-of-dataset-availables-(-Users,-Movies-&amp;-User-Ratings)-1.1.1\"><span class=\"toc-item-num\">1.1.1&nbsp;&nbsp;</span>We have to recommended movie based on given datasets, 3 different types of dataset availables ( Users, Movies &amp; User Ratings)</a></span></li><li><span><a href=\"#Github-Paths-for-datasets\" data-toc-modified-id=\"Github-Paths-for-datasets-1.1.2\"><span class=\"toc-item-num\">1.1.2&nbsp;&nbsp;</span>Github Paths for datasets</a></span><ul class=\"toc-item\"><li><span><a href=\"#https://raw.githubusercontent.com/insaid2018/Term-4/master/Data/Assignment/users.csv\" data-toc-modified-id=\"https://raw.githubusercontent.com/insaid2018/Term-4/master/Data/Assignment/users.csv-1.1.2.1\"><span class=\"toc-item-num\">1.1.2.1&nbsp;&nbsp;</span><a href=\"https://raw.githubusercontent.com/insaid2018/Term-4/master/Data/Assignment/users.csv\" target=\"_blank\">https://raw.githubusercontent.com/insaid2018/Term-4/master/Data/Assignment/users.csv</a></a></span></li><li><span><a href=\"#https://raw.githubusercontent.com/insaid2018/Term-4/master/Data/Assignment/movies.csv\" data-toc-modified-id=\"https://raw.githubusercontent.com/insaid2018/Term-4/master/Data/Assignment/movies.csv-1.1.2.2\"><span class=\"toc-item-num\">1.1.2.2&nbsp;&nbsp;</span><a href=\"https://raw.githubusercontent.com/insaid2018/Term-4/master/Data/Assignment/movies.csv\" target=\"_blank\">https://raw.githubusercontent.com/insaid2018/Term-4/master/Data/Assignment/movies.csv</a></a></span></li><li><span><a href=\"#https://raw.githubusercontent.com/insaid2018/Term-4/master/Data/Assignment/ratings.csv\" data-toc-modified-id=\"https://raw.githubusercontent.com/insaid2018/Term-4/master/Data/Assignment/ratings.csv-1.1.2.3\"><span class=\"toc-item-num\">1.1.2.3&nbsp;&nbsp;</span><a href=\"https://raw.githubusercontent.com/insaid2018/Term-4/master/Data/Assignment/ratings.csv\" target=\"_blank\">https://raw.githubusercontent.com/insaid2018/Term-4/master/Data/Assignment/ratings.csv</a></a></span></li></ul></li></ul></li></ul></li><li><span><a href=\"#Import-Library\" data-toc-modified-id=\"Import-Library-2\"><span class=\"toc-item-num\">2&nbsp;&nbsp;</span>Import Library</a></span></li><li><span><a href=\"#Import-Data\" data-toc-modified-id=\"Import-Data-3\"><span class=\"toc-item-num\">3&nbsp;&nbsp;</span>Import Data</a></span><ul class=\"toc-item\"><li><span><a href=\"#Dataset-details\" data-toc-modified-id=\"Dataset-details-3.1\"><span class=\"toc-item-num\">3.1&nbsp;&nbsp;</span>Dataset details</a></span><ul class=\"toc-item\"><li><span><a href=\"#Users-Dataset\" data-toc-modified-id=\"Users-Dataset-3.1.1\"><span class=\"toc-item-num\">3.1.1&nbsp;&nbsp;</span>Users Dataset</a></span></li><li><span><a href=\"#Movies-Dataset\" data-toc-modified-id=\"Movies-Dataset-3.1.2\"><span class=\"toc-item-num\">3.1.2&nbsp;&nbsp;</span>Movies Dataset</a></span></li><li><span><a href=\"#Ratings-Dataset\" data-toc-modified-id=\"Ratings-Dataset-3.1.3\"><span class=\"toc-item-num\">3.1.3&nbsp;&nbsp;</span>Ratings Dataset</a></span></li></ul></li></ul></li><li><span><a href=\"#EDA-on-Ratings\" data-toc-modified-id=\"EDA-on-Ratings-4\"><span class=\"toc-item-num\">4&nbsp;&nbsp;</span>EDA on Ratings</a></span><ul class=\"toc-item\"><li><ul class=\"toc-item\"><li><span><a href=\"#Genres\" data-toc-modified-id=\"Genres-4.0.1\"><span class=\"toc-item-num\">4.0.1&nbsp;&nbsp;</span>Genres</a></span></li></ul></li></ul></li><li><span><a href=\"#Content-based-Recommendation-Model\" data-toc-modified-id=\"Content-based-Recommendation-Model-5\"><span class=\"toc-item-num\">5&nbsp;&nbsp;</span>Content based Recommendation Model</a></span><ul class=\"toc-item\"><li><ul class=\"toc-item\"><li><span><a href=\"#Implementation\" data-toc-modified-id=\"Implementation-5.0.1\"><span class=\"toc-item-num\">5.0.1&nbsp;&nbsp;</span>Implementation</a></span><ul class=\"toc-item\"><li><span><a href=\"#Build-a-1-dimensional-array-with-movie-titles\" data-toc-modified-id=\"Build-a-1-dimensional-array-with-movie-titles-5.0.1.1\"><span class=\"toc-item-num\">5.0.1.1&nbsp;&nbsp;</span>Build a 1-dimensional array with movie titles</a></span></li><li><span><a href=\"#Function-that-get-movie-recommendations-based-on-the-cosine-similarity-score-of-movie-genres\" data-toc-modified-id=\"Function-that-get-movie-recommendations-based-on-the-cosine-similarity-score-of-movie-genres-5.0.1.2\"><span class=\"toc-item-num\">5.0.1.2&nbsp;&nbsp;</span>Function that get movie recommendations based on the cosine similarity score of movie genres</a></span></li></ul></li></ul></li></ul></li><li><span><a href=\"#Collaborative-Filtering-Recommendation-Model\" data-toc-modified-id=\"Collaborative-Filtering-Recommendation-Model-6\"><span class=\"toc-item-num\">6&nbsp;&nbsp;</span>Collaborative Filtering Recommendation Model</a></span><ul class=\"toc-item\"><li><ul class=\"toc-item\"><li><span><a href=\"#Implementation\" data-toc-modified-id=\"Implementation-6.0.1\"><span class=\"toc-item-num\">6.0.1&nbsp;&nbsp;</span>Implementation</a></span></li></ul></li></ul></li><li><span><a href=\"#Splitting-the-data\" data-toc-modified-id=\"Splitting-the-data-7\"><span class=\"toc-item-num\">7&nbsp;&nbsp;</span>Splitting the data</a></span></li><li><span><a href=\"#Model-Evaluation\" data-toc-modified-id=\"Model-Evaluation-8\"><span class=\"toc-item-num\">8&nbsp;&nbsp;</span>Model Evaluation</a></span></li><li><span><a href=\"#Model-based-Collaborative-Filtering\" data-toc-modified-id=\"Model-based-Collaborative-Filtering-9\"><span class=\"toc-item-num\">9&nbsp;&nbsp;</span>Model based Collaborative Filtering</a></span><ul class=\"toc-item\"><li><ul class=\"toc-item\"><li><span><a href=\"#Using-K-NN\" data-toc-modified-id=\"Using-K-NN-9.0.1\"><span class=\"toc-item-num\">9.0.1&nbsp;&nbsp;</span>Using K-NN</a></span><ul class=\"toc-item\"><li><span><a href=\"#Testing-our-model-and-making-some-recommendations\" data-toc-modified-id=\"Testing-our-model-and-making-some-recommendations-9.0.1.1\"><span class=\"toc-item-num\">9.0.1.1&nbsp;&nbsp;</span>Testing our model and making some recommendations</a></span></li><li><span><a href=\"#Checking-sparisty-level-of-the-dataset\" data-toc-modified-id=\"Checking-sparisty-level-of-the-dataset-9.0.1.2\"><span class=\"toc-item-num\">9.0.1.2&nbsp;&nbsp;</span>Checking sparisty level of the dataset</a></span></li></ul></li></ul></li></ul></li><li><span><a href=\"#Conclusion\" data-toc-modified-id=\"Conclusion-10\"><span class=\"toc-item-num\">10&nbsp;&nbsp;</span>Conclusion</a></span></li></ul></div>"
   ]
  },
  {
   "cell_type": "markdown",
   "metadata": {},
   "source": [
    "<img src=\"https://github.com/insaid2018/Term-1/blob/master/Images/INSAID_Full%20Logo.png?raw=true\" width=\"240\" height=\"360\" />\n",
    "\n",
    "# Movie Recommendation System"
   ]
  },
  {
   "cell_type": "markdown",
   "metadata": {},
   "source": [
    "## Problem Statment\n",
    "   - ### We have to recommended movie based on given datasets, 3 different types of dataset availables ( Users, Movies & User Ratings)\n",
    "   - ### Github Paths for datasets   \n",
    "   - #### https://raw.githubusercontent.com/insaid2018/Term-4/master/Data/Assignment/users.csv\n",
    "   - #### https://raw.githubusercontent.com/insaid2018/Term-4/master/Data/Assignment/movies.csv\n",
    "   - #### https://raw.githubusercontent.com/insaid2018/Term-4/master/Data/Assignment/ratings.csv"
   ]
  },
  {
   "cell_type": "markdown",
   "metadata": {},
   "source": [
    "# Import Library"
   ]
  },
  {
   "cell_type": "code",
   "execution_count": 1,
   "metadata": {},
   "outputs": [],
   "source": [
    "import pandas as pd\n",
    "import numpy as np\n",
    "import matplotlib.pyplot as plt\n",
    "%matplotlib inline\n",
    "\n",
    "import seaborn as sns\n",
    "sns.set_style('whitegrid')\n",
    "sns.set(font_scale=1.5)\n",
    "\n",
    "from sklearn.feature_extraction.text import TfidfVectorizer\n",
    "from sklearn.metrics.pairwise import linear_kernel\n",
    "\n",
    "from sklearn import model_selection as cv\n",
    "from sklearn.metrics.pairwise import pairwise_distances\n",
    "\n",
    "from sklearn.metrics import mean_squared_error\n",
    "from sklearn.neighbors import NearestNeighbors\n",
    "\n",
    "from math import sqrt"
   ]
  },
  {
   "cell_type": "markdown",
   "metadata": {},
   "source": [
    "# Import Data"
   ]
  },
  {
   "cell_type": "code",
   "execution_count": 2,
   "metadata": {},
   "outputs": [],
   "source": [
    "# Reading users file\n",
    "Users = pd.read_csv('https://raw.githubusercontent.com/insaid2018/Term-4/master/Data/Assignment/users.csv', sep='\\t', encoding='latin-1', usecols=['user_id', 'gender', 'zipcode', 'age_desc', 'occ_desc'])\n",
    "\n",
    "# Reading movies file\n",
    "Movies = pd.read_csv('https://raw.githubusercontent.com/insaid2018/Term-4/master/Data/Assignment/movies.csv', sep='\\t', encoding='latin-1', usecols=['movie_id', 'title', 'genres'])\n",
    "\n",
    "# Reading User ratings file\n",
    "UserRatings = pd.read_csv('https://raw.githubusercontent.com/insaid2018/Term-4/master/Data/Assignment/ratings.csv', sep='\\t', encoding='latin-1', usecols=['user_id', 'movie_id', 'rating'])\n"
   ]
  },
  {
   "cell_type": "markdown",
   "metadata": {},
   "source": [
    "## Dataset details\n",
    "- We have 3 different Datasets ( Users, Movies and Ratings)\n",
    "- Now lets take a peak into the content of each file to understand them better."
   ]
  },
  {
   "cell_type": "markdown",
   "metadata": {
    "colab_type": "text",
    "id": "bJWb-q8mzGn2"
   },
   "source": [
    "### Users Dataset"
   ]
  },
  {
   "cell_type": "code",
   "execution_count": 3,
   "metadata": {},
   "outputs": [
    {
     "name": "stdout",
     "output_type": "stream",
     "text": [
      "   user_id gender zipcode  age_desc              occ_desc\n",
      "0        1      F   48067  Under 18          K-12 student\n",
      "1        2      M   70072       56+         self-employed\n",
      "2        3      M   55117     25-34             scientist\n",
      "3        4      M   02460     45-49  executive/managerial\n",
      "4        5      M   55455     25-34                writer\n"
     ]
    }
   ],
   "source": [
    "print(Users.head())"
   ]
  },
  {
   "cell_type": "code",
   "execution_count": 4,
   "metadata": {},
   "outputs": [
    {
     "name": "stdout",
     "output_type": "stream",
     "text": [
      "<class 'pandas.core.frame.DataFrame'>\n",
      "RangeIndex: 6040 entries, 0 to 6039\n",
      "Data columns (total 5 columns):\n",
      " #   Column    Non-Null Count  Dtype \n",
      "---  ------    --------------  ----- \n",
      " 0   user_id   6040 non-null   int64 \n",
      " 1   gender    6040 non-null   object\n",
      " 2   zipcode   6040 non-null   object\n",
      " 3   age_desc  6040 non-null   object\n",
      " 4   occ_desc  6040 non-null   object\n",
      "dtypes: int64(1), object(4)\n",
      "memory usage: 236.1+ KB\n",
      "None\n"
     ]
    }
   ],
   "source": [
    "print(Users.info())"
   ]
  },
  {
   "cell_type": "code",
   "execution_count": 5,
   "metadata": {},
   "outputs": [
    {
     "name": "stdout",
     "output_type": "stream",
     "text": [
      "           user_id\n",
      "count  6040.000000\n",
      "mean   3020.500000\n",
      "std    1743.742145\n",
      "min       1.000000\n",
      "25%    1510.750000\n",
      "50%    3020.500000\n",
      "75%    4530.250000\n",
      "max    6040.000000\n"
     ]
    }
   ],
   "source": [
    "print(Users.describe())"
   ]
  },
  {
   "cell_type": "markdown",
   "metadata": {},
   "source": [
    "This confirms that there are 6040 users and we have 5 features.\n",
    "\n",
    " \n",
    "| Column Name                     | Description                                                                               |\n",
    "|:------------------------------- |:------------------------------------------------------------------------------------------| \n",
    "| user_id                         | Unique user ID                                                                            | \n",
    "| gender                          | Gender of user                                                                            |\n",
    "| zipcode                         | Zip code user is living in                                                                | \n",
    "| age_desc                        | Age category of user                                                                      |\n",
    "| occ_desc                        | occupation of the user                                                                    |\n",
    "|---------------------------------|-------------------------------------------------------------------------------------------|"
   ]
  },
  {
   "cell_type": "markdown",
   "metadata": {},
   "source": [
    "### Movies Dataset"
   ]
  },
  {
   "cell_type": "code",
   "execution_count": 6,
   "metadata": {},
   "outputs": [
    {
     "name": "stdout",
     "output_type": "stream",
     "text": [
      "   movie_id                               title                        genres\n",
      "0         1                    Toy Story (1995)   Animation|Children's|Comedy\n",
      "1         2                      Jumanji (1995)  Adventure|Children's|Fantasy\n",
      "2         3             Grumpier Old Men (1995)                Comedy|Romance\n",
      "3         4            Waiting to Exhale (1995)                  Comedy|Drama\n",
      "4         5  Father of the Bride Part II (1995)                        Comedy\n"
     ]
    }
   ],
   "source": [
    "print(Movies.head())"
   ]
  },
  {
   "cell_type": "code",
   "execution_count": 7,
   "metadata": {},
   "outputs": [
    {
     "name": "stdout",
     "output_type": "stream",
     "text": [
      "<class 'pandas.core.frame.DataFrame'>\n",
      "RangeIndex: 3883 entries, 0 to 3882\n",
      "Data columns (total 3 columns):\n",
      " #   Column    Non-Null Count  Dtype \n",
      "---  ------    --------------  ----- \n",
      " 0   movie_id  3883 non-null   int64 \n",
      " 1   title     3883 non-null   object\n",
      " 2   genres    3883 non-null   object\n",
      "dtypes: int64(1), object(2)\n",
      "memory usage: 91.1+ KB\n",
      "None\n"
     ]
    }
   ],
   "source": [
    "print(Movies.info())"
   ]
  },
  {
   "cell_type": "code",
   "execution_count": 8,
   "metadata": {},
   "outputs": [
    {
     "name": "stdout",
     "output_type": "stream",
     "text": [
      "          movie_id\n",
      "count  3883.000000\n",
      "mean   1986.049446\n",
      "std    1146.778349\n",
      "min       1.000000\n",
      "25%     982.500000\n",
      "50%    2010.000000\n",
      "75%    2980.500000\n",
      "max    3952.000000\n"
     ]
    }
   ],
   "source": [
    "print(Movies.describe())"
   ]
  },
  {
   "cell_type": "markdown",
   "metadata": {
    "colab_type": "text",
    "id": "ibERsMYjzGoN"
   },
   "source": [
    "This dataset contains attributes of the 3883 movies. There are 3 features.\n",
    "\n",
    " \n",
    "| Column Name                     | Description                                                                               |\n",
    "|:------------------------------- |:------------------------------------------------------------------------------------------| \n",
    "| movie_id                        | Unique Movie ID                                                                           | \n",
    "| title                           | Name of the movie                                                                         |\n",
    "| genres                          | Genres like Comedy, Crime, Documentary, Drama, Horror etc                                 | \n",
    "|---------------------------------|-------------------------------------------------------------------------------------------|"
   ]
  },
  {
   "cell_type": "markdown",
   "metadata": {
    "colab_type": "text",
    "id": "bJWb-q8mzGn2"
   },
   "source": [
    "### Ratings Dataset"
   ]
  },
  {
   "cell_type": "code",
   "execution_count": 9,
   "metadata": {},
   "outputs": [
    {
     "name": "stdout",
     "output_type": "stream",
     "text": [
      "   user_id  movie_id  rating\n",
      "0        1      1193       5\n",
      "1        1       661       3\n",
      "2        1       914       3\n",
      "3        1      3408       4\n",
      "4        1      2355       5\n"
     ]
    }
   ],
   "source": [
    "print(UserRatings.head())"
   ]
  },
  {
   "cell_type": "code",
   "execution_count": 10,
   "metadata": {},
   "outputs": [
    {
     "name": "stdout",
     "output_type": "stream",
     "text": [
      "<class 'pandas.core.frame.DataFrame'>\n",
      "RangeIndex: 1000209 entries, 0 to 1000208\n",
      "Data columns (total 3 columns):\n",
      " #   Column    Non-Null Count    Dtype\n",
      "---  ------    --------------    -----\n",
      " 0   user_id   1000209 non-null  int64\n",
      " 1   movie_id  1000209 non-null  int64\n",
      " 2   rating    1000209 non-null  int64\n",
      "dtypes: int64(3)\n",
      "memory usage: 22.9 MB\n",
      "None\n"
     ]
    }
   ],
   "source": [
    "print(UserRatings.info())"
   ]
  },
  {
   "cell_type": "code",
   "execution_count": 11,
   "metadata": {},
   "outputs": [
    {
     "name": "stdout",
     "output_type": "stream",
     "text": [
      "            user_id      movie_id        rating\n",
      "count  1.000209e+06  1.000209e+06  1.000209e+06\n",
      "mean   3.024512e+03  1.865540e+03  3.581564e+00\n",
      "std    1.728413e+03  1.096041e+03  1.117102e+00\n",
      "min    1.000000e+00  1.000000e+00  1.000000e+00\n",
      "25%    1.506000e+03  1.030000e+03  3.000000e+00\n",
      "50%    3.070000e+03  1.835000e+03  4.000000e+00\n",
      "75%    4.476000e+03  2.770000e+03  4.000000e+00\n",
      "max    6.040000e+03  3.952000e+03  5.000000e+00\n"
     ]
    }
   ],
   "source": [
    "print(UserRatings.describe())"
   ]
  },
  {
   "cell_type": "markdown",
   "metadata": {
    "colab_type": "text",
    "id": "QHEZlaMBzGn-"
   },
   "source": [
    "This confirms that there are 1M ratings for different user and movie combinations.\n",
    "\n",
    "| Column Name                     | Description                                                                               |\n",
    "|:------------------------------- |:------------------------------------------------------------------------------------------| \n",
    "| user_id                         | Unique User ID                                                                            | \n",
    "| movie_id                        | Unique Movie ID                                                                           |\n",
    "| rating                          | rating of movie by users                                                                  | \n",
    "|---------------------------------|-------------------------------------------------------------------------------------------|"
   ]
  },
  {
   "cell_type": "markdown",
   "metadata": {},
   "source": [
    "<a id=section5></a>\n",
    "# EDA on Ratings"
   ]
  },
  {
   "cell_type": "code",
   "execution_count": 12,
   "metadata": {},
   "outputs": [
    {
     "name": "stderr",
     "output_type": "stream",
     "text": [
      "C:\\ProgramData\\Anaconda3\\lib\\site-packages\\seaborn\\distributions.py:2551: FutureWarning: `distplot` is a deprecated function and will be removed in a future version. Please adapt your code to use either `displot` (a figure-level function with similar flexibility) or `histplot` (an axes-level function for histograms).\n",
      "  warnings.warn(msg, FutureWarning)\n"
     ]
    },
    {
     "data": {
      "image/png": "[encoded data removed]",
      "text/plain": [
       "<Figure size 432x288 with 1 Axes>"
      ]
     },
     "metadata": {
      "needs_background": "light"
     },
     "output_type": "display_data"
    }
   ],
   "source": [
    "# Display distribution of rating\n",
    "sns.distplot(UserRatings['rating'].fillna(UserRatings['rating'].median()));"
   ]
  },
  {
   "cell_type": "markdown",
   "metadata": {
    "colab_type": "text",
    "id": "nXpuW6cizGoV"
   },
   "source": [
    "- It appears that users are quite generous in their ratings. \n",
    "- The mean rating is 3.58 on a scale of 5. Half the movies have a rating of 4 and 5.\n",
    "- Each user rated at least 50 movies, so I doubt the distribution could be caused just by chance variance in the quality of movies.\n",
    "- Let's also take a look at a subset of 50 movies with the highest rating. For that we needs to join all 3 datasets"
   ]
  },
  {
   "cell_type": "code",
   "execution_count": 13,
   "metadata": {},
   "outputs": [],
   "source": [
    "dataset = pd.merge(pd.merge(Movies, UserRatings),Users)"
   ]
  },
  {
   "cell_type": "markdown",
   "metadata": {
    "colab_type": "text",
    "id": "WXoWnte1zGoZ"
   },
   "source": [
    "- Display Top 50 movies with highest ratings"
   ]
  },
  {
   "cell_type": "code",
   "execution_count": 46,
   "metadata": {},
   "outputs": [
    {
     "data": {
      "text/html": [
       "<div>\n",
       "<style scoped>\n",
       "    .dataframe tbody tr th:only-of-type {\n",
       "        vertical-align: middle;\n",
       "    }\n",
       "\n",
       "    .dataframe tbody tr th {\n",
       "        vertical-align: top;\n",
       "    }\n",
       "\n",
       "    .dataframe thead th {\n",
       "        text-align: right;\n",
       "    }\n",
       "</style>\n",
       "<table border=\"1\" class=\"dataframe\">\n",
       "  <thead>\n",
       "    <tr style=\"text-align: right;\">\n",
       "      <th></th>\n",
       "      <th>title</th>\n",
       "      <th>genres</th>\n",
       "      <th>rating</th>\n",
       "    </tr>\n",
       "  </thead>\n",
       "  <tbody>\n",
       "    <tr>\n",
       "      <th>0</th>\n",
       "      <td>Toy Story (1995)</td>\n",
       "      <td>Animation|Children's|Comedy</td>\n",
       "      <td>5</td>\n",
       "    </tr>\n",
       "    <tr>\n",
       "      <th>489283</th>\n",
       "      <td>American Beauty (1999)</td>\n",
       "      <td>Comedy|Drama</td>\n",
       "      <td>5</td>\n",
       "    </tr>\n",
       "    <tr>\n",
       "      <th>489259</th>\n",
       "      <td>Election (1999)</td>\n",
       "      <td>Comedy</td>\n",
       "      <td>5</td>\n",
       "    </tr>\n",
       "    <tr>\n",
       "      <th>489257</th>\n",
       "      <td>Matrix, The (1999)</td>\n",
       "      <td>Action|Sci-Fi|Thriller</td>\n",
       "      <td>5</td>\n",
       "    </tr>\n",
       "    <tr>\n",
       "      <th>489256</th>\n",
       "      <td>Dead Ringers (1988)</td>\n",
       "      <td>Drama|Thriller</td>\n",
       "      <td>5</td>\n",
       "    </tr>\n",
       "    <tr>\n",
       "      <th>489237</th>\n",
       "      <td>Rushmore (1998)</td>\n",
       "      <td>Comedy</td>\n",
       "      <td>5</td>\n",
       "    </tr>\n",
       "    <tr>\n",
       "      <th>489236</th>\n",
       "      <td>Simple Plan, A (1998)</td>\n",
       "      <td>Crime|Thriller</td>\n",
       "      <td>5</td>\n",
       "    </tr>\n",
       "    <tr>\n",
       "      <th>489226</th>\n",
       "      <td>Hands on a Hard Body (1996)</td>\n",
       "      <td>Documentary</td>\n",
       "      <td>5</td>\n",
       "    </tr>\n",
       "    <tr>\n",
       "      <th>489224</th>\n",
       "      <td>Pleasantville (1998)</td>\n",
       "      <td>Comedy</td>\n",
       "      <td>5</td>\n",
       "    </tr>\n",
       "    <tr>\n",
       "      <th>489212</th>\n",
       "      <td>Say Anything... (1989)</td>\n",
       "      <td>Comedy|Drama|Romance</td>\n",
       "      <td>5</td>\n",
       "    </tr>\n",
       "    <tr>\n",
       "      <th>489207</th>\n",
       "      <td>Beetlejuice (1988)</td>\n",
       "      <td>Comedy|Fantasy</td>\n",
       "      <td>5</td>\n",
       "    </tr>\n",
       "    <tr>\n",
       "      <th>489190</th>\n",
       "      <td>Roger &amp; Me (1989)</td>\n",
       "      <td>Comedy|Documentary</td>\n",
       "      <td>5</td>\n",
       "    </tr>\n",
       "    <tr>\n",
       "      <th>489172</th>\n",
       "      <td>Buffalo 66 (1998)</td>\n",
       "      <td>Action|Comedy|Drama</td>\n",
       "      <td>5</td>\n",
       "    </tr>\n",
       "    <tr>\n",
       "      <th>489171</th>\n",
       "      <td>Out of Sight (1998)</td>\n",
       "      <td>Action|Crime|Romance</td>\n",
       "      <td>5</td>\n",
       "    </tr>\n",
       "    <tr>\n",
       "      <th>489170</th>\n",
       "      <td>I Went Down (1997)</td>\n",
       "      <td>Action|Comedy|Crime</td>\n",
       "      <td>5</td>\n",
       "    </tr>\n",
       "    <tr>\n",
       "      <th>489168</th>\n",
       "      <td>Opposite of Sex, The (1998)</td>\n",
       "      <td>Comedy|Drama</td>\n",
       "      <td>5</td>\n",
       "    </tr>\n",
       "    <tr>\n",
       "      <th>489157</th>\n",
       "      <td>Good Will Hunting (1997)</td>\n",
       "      <td>Drama</td>\n",
       "      <td>5</td>\n",
       "    </tr>\n",
       "    <tr>\n",
       "      <th>489152</th>\n",
       "      <td>Fast, Cheap &amp; Out of Control (1997)</td>\n",
       "      <td>Documentary</td>\n",
       "      <td>5</td>\n",
       "    </tr>\n",
       "    <tr>\n",
       "      <th>489149</th>\n",
       "      <td>L.A. Confidential (1997)</td>\n",
       "      <td>Crime|Film-Noir|Mystery|Thriller</td>\n",
       "      <td>5</td>\n",
       "    </tr>\n",
       "    <tr>\n",
       "      <th>489145</th>\n",
       "      <td>Contact (1997)</td>\n",
       "      <td>Drama|Sci-Fi</td>\n",
       "      <td>5</td>\n",
       "    </tr>\n",
       "    <tr>\n",
       "      <th>489136</th>\n",
       "      <td>Grosse Pointe Blank (1997)</td>\n",
       "      <td>Comedy|Crime</td>\n",
       "      <td>5</td>\n",
       "    </tr>\n",
       "    <tr>\n",
       "      <th>489264</th>\n",
       "      <td>Run Lola Run (Lola rennt) (1998)</td>\n",
       "      <td>Action|Crime|Romance</td>\n",
       "      <td>5</td>\n",
       "    </tr>\n",
       "    <tr>\n",
       "      <th>489286</th>\n",
       "      <td>Dog Park (1998)</td>\n",
       "      <td>Comedy|Romance</td>\n",
       "      <td>5</td>\n",
       "    </tr>\n",
       "    <tr>\n",
       "      <th>489129</th>\n",
       "      <td>Raising Arizona (1987)</td>\n",
       "      <td>Comedy</td>\n",
       "      <td>5</td>\n",
       "    </tr>\n",
       "    <tr>\n",
       "      <th>489288</th>\n",
       "      <td>Total Recall (1990)</td>\n",
       "      <td>Action|Adventure|Sci-Fi|Thriller</td>\n",
       "      <td>5</td>\n",
       "    </tr>\n",
       "    <tr>\n",
       "      <th>489358</th>\n",
       "      <td>Jacob's Ladder (1990)</td>\n",
       "      <td>Horror|Mystery|Thriller</td>\n",
       "      <td>5</td>\n",
       "    </tr>\n",
       "    <tr>\n",
       "      <th>489354</th>\n",
       "      <td>Creature Comforts (1990)</td>\n",
       "      <td>Animation|Comedy</td>\n",
       "      <td>5</td>\n",
       "    </tr>\n",
       "    <tr>\n",
       "      <th>489353</th>\n",
       "      <td>Mo' Better Blues (1990)</td>\n",
       "      <td>Drama</td>\n",
       "      <td>5</td>\n",
       "    </tr>\n",
       "    <tr>\n",
       "      <th>489352</th>\n",
       "      <td>Do the Right Thing (1989)</td>\n",
       "      <td>Comedy|Drama</td>\n",
       "      <td>5</td>\n",
       "    </tr>\n",
       "    <tr>\n",
       "      <th>489350</th>\n",
       "      <td>She's Gotta Have It (1986)</td>\n",
       "      <td>Comedy|Romance</td>\n",
       "      <td>5</td>\n",
       "    </tr>\n",
       "    <tr>\n",
       "      <th>489347</th>\n",
       "      <td>Muppet Movie, The (1979)</td>\n",
       "      <td>Children's|Comedy</td>\n",
       "      <td>5</td>\n",
       "    </tr>\n",
       "    <tr>\n",
       "      <th>489345</th>\n",
       "      <td>Bull Durham (1988)</td>\n",
       "      <td>Comedy</td>\n",
       "      <td>5</td>\n",
       "    </tr>\n",
       "    <tr>\n",
       "      <th>489338</th>\n",
       "      <td>Mariachi, El (1992)</td>\n",
       "      <td>Action|Thriller</td>\n",
       "      <td>5</td>\n",
       "    </tr>\n",
       "    <tr>\n",
       "      <th>489337</th>\n",
       "      <td>Hard-Boiled (Lashou shentan) (1992)</td>\n",
       "      <td>Action|Crime</td>\n",
       "      <td>5</td>\n",
       "    </tr>\n",
       "    <tr>\n",
       "      <th>489325</th>\n",
       "      <td>Galaxy Quest (1999)</td>\n",
       "      <td>Adventure|Comedy|Sci-Fi</td>\n",
       "      <td>5</td>\n",
       "    </tr>\n",
       "    <tr>\n",
       "      <th>489322</th>\n",
       "      <td>Last Picture Show, The (1971)</td>\n",
       "      <td>Drama</td>\n",
       "      <td>5</td>\n",
       "    </tr>\n",
       "    <tr>\n",
       "      <th>489319</th>\n",
       "      <td>Fisher King, The (1991)</td>\n",
       "      <td>Comedy|Drama|Romance</td>\n",
       "      <td>5</td>\n",
       "    </tr>\n",
       "    <tr>\n",
       "      <th>489314</th>\n",
       "      <td>Moonstruck (1987)</td>\n",
       "      <td>Comedy</td>\n",
       "      <td>5</td>\n",
       "    </tr>\n",
       "    <tr>\n",
       "      <th>489302</th>\n",
       "      <td>American Movie (1999)</td>\n",
       "      <td>Documentary</td>\n",
       "      <td>5</td>\n",
       "    </tr>\n",
       "    <tr>\n",
       "      <th>489300</th>\n",
       "      <td>Being John Malkovich (1999)</td>\n",
       "      <td>Comedy</td>\n",
       "      <td>5</td>\n",
       "    </tr>\n",
       "    <tr>\n",
       "      <th>489296</th>\n",
       "      <td>Time Bandits (1981)</td>\n",
       "      <td>Adventure|Fantasy|Sci-Fi</td>\n",
       "      <td>5</td>\n",
       "    </tr>\n",
       "    <tr>\n",
       "      <th>489295</th>\n",
       "      <td>Straight Story, The (1999)</td>\n",
       "      <td>Drama</td>\n",
       "      <td>5</td>\n",
       "    </tr>\n",
       "    <tr>\n",
       "      <th>489294</th>\n",
       "      <td>Fight Club (1999)</td>\n",
       "      <td>Drama</td>\n",
       "      <td>5</td>\n",
       "    </tr>\n",
       "    <tr>\n",
       "      <th>489290</th>\n",
       "      <td>Ferris Bueller's Day Off (1986)</td>\n",
       "      <td>Comedy</td>\n",
       "      <td>5</td>\n",
       "    </tr>\n",
       "    <tr>\n",
       "      <th>489133</th>\n",
       "      <td>Waiting for Guffman (1996)</td>\n",
       "      <td>Comedy</td>\n",
       "      <td>5</td>\n",
       "    </tr>\n",
       "    <tr>\n",
       "      <th>489119</th>\n",
       "      <td>Breaking the Waves (1996)</td>\n",
       "      <td>Drama</td>\n",
       "      <td>5</td>\n",
       "    </tr>\n",
       "    <tr>\n",
       "      <th>489374</th>\n",
       "      <td>Pee-wee's Big Adventure (1985)</td>\n",
       "      <td>Comedy</td>\n",
       "      <td>5</td>\n",
       "    </tr>\n",
       "    <tr>\n",
       "      <th>489011</th>\n",
       "      <td>Lone Star (1996)</td>\n",
       "      <td>Drama|Mystery</td>\n",
       "      <td>5</td>\n",
       "    </tr>\n",
       "    <tr>\n",
       "      <th>489006</th>\n",
       "      <td>Dr. Strangelove or: How I Learned to Stop Worr...</td>\n",
       "      <td>Sci-Fi|War</td>\n",
       "      <td>5</td>\n",
       "    </tr>\n",
       "    <tr>\n",
       "      <th>489003</th>\n",
       "      <td>Wallace &amp; Gromit: The Best of Aardman Animatio...</td>\n",
       "      <td>Animation</td>\n",
       "      <td>5</td>\n",
       "    </tr>\n",
       "  </tbody>\n",
       "</table>\n",
       "</div>"
      ],
      "text/plain": [
       "                                                    title  \\\n",
       "0                                        Toy Story (1995)   \n",
       "489283                             American Beauty (1999)   \n",
       "489259                                    Election (1999)   \n",
       "489257                                 Matrix, The (1999)   \n",
       "489256                                Dead Ringers (1988)   \n",
       "489237                                    Rushmore (1998)   \n",
       "489236                              Simple Plan, A (1998)   \n",
       "489226                        Hands on a Hard Body (1996)   \n",
       "489224                               Pleasantville (1998)   \n",
       "489212                             Say Anything... (1989)   \n",
       "489207                                 Beetlejuice (1988)   \n",
       "489190                                  Roger & Me (1989)   \n",
       "489172                                  Buffalo 66 (1998)   \n",
       "489171                                Out of Sight (1998)   \n",
       "489170                                 I Went Down (1997)   \n",
       "489168                        Opposite of Sex, The (1998)   \n",
       "489157                           Good Will Hunting (1997)   \n",
       "489152                Fast, Cheap & Out of Control (1997)   \n",
       "489149                           L.A. Confidential (1997)   \n",
       "489145                                     Contact (1997)   \n",
       "489136                         Grosse Pointe Blank (1997)   \n",
       "489264                   Run Lola Run (Lola rennt) (1998)   \n",
       "489286                                    Dog Park (1998)   \n",
       "489129                             Raising Arizona (1987)   \n",
       "489288                                Total Recall (1990)   \n",
       "489358                              Jacob's Ladder (1990)   \n",
       "489354                           Creature Comforts (1990)   \n",
       "489353                            Mo' Better Blues (1990)   \n",
       "489352                          Do the Right Thing (1989)   \n",
       "489350                         She's Gotta Have It (1986)   \n",
       "489347                           Muppet Movie, The (1979)   \n",
       "489345                                 Bull Durham (1988)   \n",
       "489338                                Mariachi, El (1992)   \n",
       "489337                Hard-Boiled (Lashou shentan) (1992)   \n",
       "489325                                Galaxy Quest (1999)   \n",
       "489322                      Last Picture Show, The (1971)   \n",
       "489319                            Fisher King, The (1991)   \n",
       "489314                                  Moonstruck (1987)   \n",
       "489302                              American Movie (1999)   \n",
       "489300                        Being John Malkovich (1999)   \n",
       "489296                                Time Bandits (1981)   \n",
       "489295                         Straight Story, The (1999)   \n",
       "489294                                  Fight Club (1999)   \n",
       "489290                    Ferris Bueller's Day Off (1986)   \n",
       "489133                         Waiting for Guffman (1996)   \n",
       "489119                          Breaking the Waves (1996)   \n",
       "489374                     Pee-wee's Big Adventure (1985)   \n",
       "489011                                   Lone Star (1996)   \n",
       "489006  Dr. Strangelove or: How I Learned to Stop Worr...   \n",
       "489003  Wallace & Gromit: The Best of Aardman Animatio...   \n",
       "\n",
       "                                  genres  rating  \n",
       "0            Animation|Children's|Comedy       5  \n",
       "489283                      Comedy|Drama       5  \n",
       "489259                            Comedy       5  \n",
       "489257            Action|Sci-Fi|Thriller       5  \n",
       "489256                    Drama|Thriller       5  \n",
       "489237                            Comedy       5  \n",
       "489236                    Crime|Thriller       5  \n",
       "489226                       Documentary       5  \n",
       "489224                            Comedy       5  \n",
       "489212              Comedy|Drama|Romance       5  \n",
       "489207                    Comedy|Fantasy       5  \n",
       "489190                Comedy|Documentary       5  \n",
       "489172               Action|Comedy|Drama       5  \n",
       "489171              Action|Crime|Romance       5  \n",
       "489170               Action|Comedy|Crime       5  \n",
       "489168                      Comedy|Drama       5  \n",
       "489157                             Drama       5  \n",
       "489152                       Documentary       5  \n",
       "489149  Crime|Film-Noir|Mystery|Thriller       5  \n",
       "489145                      Drama|Sci-Fi       5  \n",
       "489136                      Comedy|Crime       5  \n",
       "489264              Action|Crime|Romance       5  \n",
       "489286                    Comedy|Romance       5  \n",
       "489129                            Comedy       5  \n",
       "489288  Action|Adventure|Sci-Fi|Thriller       5  \n",
       "489358           Horror|Mystery|Thriller       5  \n",
       "489354                  Animation|Comedy       5  \n",
       "489353                             Drama       5  \n",
       "489352                      Comedy|Drama       5  \n",
       "489350                    Comedy|Romance       5  \n",
       "489347                 Children's|Comedy       5  \n",
       "489345                            Comedy       5  \n",
       "489338                   Action|Thriller       5  \n",
       "489337                      Action|Crime       5  \n",
       "489325           Adventure|Comedy|Sci-Fi       5  \n",
       "489322                             Drama       5  \n",
       "489319              Comedy|Drama|Romance       5  \n",
       "489314                            Comedy       5  \n",
       "489302                       Documentary       5  \n",
       "489300                            Comedy       5  \n",
       "489296          Adventure|Fantasy|Sci-Fi       5  \n",
       "489295                             Drama       5  \n",
       "489294                             Drama       5  \n",
       "489290                            Comedy       5  \n",
       "489133                            Comedy       5  \n",
       "489119                             Drama       5  \n",
       "489374                            Comedy       5  \n",
       "489011                     Drama|Mystery       5  \n",
       "489006                        Sci-Fi|War       5  \n",
       "489003                         Animation       5  "
      ]
     },
     "execution_count": 46,
     "metadata": {},
     "output_type": "execute_result"
    }
   ],
   "source": [
    "dataset[['title','genres','rating']].sort_values('rating', ascending=False).head(50)"
   ]
  },
  {
   "cell_type": "markdown",
   "metadata": {},
   "source": [
    "### Genres\n",
    "The genres variable will surely be important while building the recommendation engines since it describes the content of the film (i.e. Animation, Horror, Comedy). A basic assumption is that films in the same genre should have similar contents. We'll attempt to see exactly which genres are the most popular."
   ]
  },
  {
   "cell_type": "code",
   "execution_count": 15,
   "metadata": {},
   "outputs": [],
   "source": [
    "# Make a census of the genre keywords\n",
    "\n",
    "genre_labels = set()\n",
    "for s in Movies['genres'].str.split('|').values:\n",
    "    genre_labels = genre_labels.union(set(s))"
   ]
  },
  {
   "cell_type": "code",
   "execution_count": 16,
   "metadata": {},
   "outputs": [],
   "source": [
    "# Function that counts the number of times each of the genre keywords appear\n",
    "\n",
    "def count_word(dataset, ref_col, census):\n",
    "    keyword_count = dict()\n",
    "    for s in census: \n",
    "        keyword_count[s] = 0\n",
    "    for census_keywords in dataset[ref_col].str.split('|'):        \n",
    "        if type(census_keywords) == float and pd.isnull(census_keywords): \n",
    "            continue        \n",
    "        for s in [s for s in census_keywords if s in census]: \n",
    "            if pd.notnull(s): \n",
    "                keyword_count[s] += 1\n",
    "    \n",
    "# convert the dictionary in a list to sort the keywords by frequency\n",
    "\n",
    "    keyword_occurences = []\n",
    "    for k,v in keyword_count.items():\n",
    "        keyword_occurences.append([k,v])\n",
    "    keyword_occurences.sort(key = lambda x:x[1], reverse = True)\n",
    "    return keyword_occurences, keyword_count"
   ]
  },
  {
   "cell_type": "code",
   "execution_count": 17,
   "metadata": {},
   "outputs": [
    {
     "data": {
      "text/plain": [
       "[['Drama', 1603],\n",
       " ['Comedy', 1200],\n",
       " ['Action', 503],\n",
       " ['Thriller', 492],\n",
       " ['Romance', 471]]"
      ]
     },
     "execution_count": 17,
     "metadata": {},
     "output_type": "execute_result"
    }
   ],
   "source": [
    "# Calling this function gives access to a list of genre keywords which are sorted by decreasing frequency\n",
    "\n",
    "keyword_occurences, dum = count_word(Movies, 'genres', genre_labels)\n",
    "keyword_occurences[:5]"
   ]
  },
  {
   "cell_type": "markdown",
   "metadata": {
    "colab_type": "text",
    "id": "_xr9MtzKzGog"
   },
   "source": [
    "The top 5 genres are, in that respect order: \n",
    "1. Drama, \n",
    "2. Comedy, \n",
    "3. Action, \n",
    "4. Thriller, and \n",
    "5. Romance."
   ]
  },
  {
   "cell_type": "markdown",
   "metadata": {
    "colab_type": "text",
    "id": "ordzrZhfzGog"
   },
   "source": [
    "<a id=section6></a>\n",
    "# Content based Recommendation Model\n",
    "\n",
    "### Implementation\n",
    "We will build a Content-Based Recommendation Engine that computes similarity between movies based on movie genres. It will suggest movies that are most similar to a particular movie based on its genre. \n",
    "- To do so, we will make use of the file **movies.csv**."
   ]
  },
  {
   "cell_type": "code",
   "execution_count": 18,
   "metadata": {},
   "outputs": [],
   "source": [
    "# Break up the big genre string into a string array\n",
    "Movies['genres'] = Movies['genres'].str.split('|')\n",
    "\n",
    "# Convert genres to string value\n",
    "Movies['genres'] = Movies['genres'].fillna(\"\").astype('str')"
   ]
  },
  {
   "cell_type": "markdown",
   "metadata": {
    "colab_type": "text",
    "id": "-A1EZAuszGok"
   },
   "source": [
    "- We do not have a quantitative metric to judge our machine's performance so this will have to be done qualitatively. \n",
    "- In order to do so, we'll use **TfidfVectorizer** function from **scikit-learn**, which transforms text to feature vectors that can be used as input to estimator."
   ]
  },
  {
   "cell_type": "code",
   "execution_count": 19,
   "metadata": {},
   "outputs": [
    {
     "data": {
      "text/plain": [
       "(3883, 127)"
      ]
     },
     "execution_count": 19,
     "metadata": {},
     "output_type": "execute_result"
    }
   ],
   "source": [
    "tf = TfidfVectorizer(analyzer='word',ngram_range=(1, 2),min_df=0, stop_words='english')\n",
    "tfidf_matrix = tf.fit_transform(Movies['genres'])\n",
    "tfidf_matrix.shape"
   ]
  },
  {
   "cell_type": "markdown",
   "metadata": {
    "colab_type": "text",
    "id": "e7rOxbnAzGom"
   },
   "source": [
    "- Further we will be using the **Cosine Similarity** to calculate a numeric quantity that denotes the similarity between two movies. \n",
    "- Since we have used the TF-IDF Vectorizer, calculating the Dot Product will directly give us the Cosine Similarity Score.\n",
    "- Therefore, we will use sklearn's **linear_kernel** instead of cosine_similarities since it is much faster."
   ]
  },
  {
   "cell_type": "code",
   "execution_count": 20,
   "metadata": {},
   "outputs": [
    {
     "data": {
      "text/plain": [
       "array([[1.        , 0.14193614, 0.09010857, 0.1056164 ],\n",
       "       [0.14193614, 1.        , 0.        , 0.        ],\n",
       "       [0.09010857, 0.        , 1.        , 0.1719888 ],\n",
       "       [0.1056164 , 0.        , 0.1719888 , 1.        ]])"
      ]
     },
     "execution_count": 20,
     "metadata": {},
     "output_type": "execute_result"
    }
   ],
   "source": [
    "cosine_sim = linear_kernel(tfidf_matrix, tfidf_matrix)\n",
    "cosine_sim[:4, :4]"
   ]
  },
  {
   "cell_type": "code",
   "execution_count": 21,
   "metadata": {},
   "outputs": [
    {
     "data": {
      "text/plain": [
       "(3883, 3883)"
      ]
     },
     "execution_count": 21,
     "metadata": {},
     "output_type": "execute_result"
    }
   ],
   "source": [
    "cosine_sim.shape"
   ]
  },
  {
   "cell_type": "markdown",
   "metadata": {
    "colab_type": "text",
    "id": "GL_9Mr29zGou"
   },
   "source": [
    "- Now have a pairwise cosine similarity matrix for all the movies in the dataset. \n",
    "- Create a function that returns the 20 most similar movies based on the cosine similarity score."
   ]
  },
  {
   "cell_type": "markdown",
   "metadata": {
    "colab_type": "text",
    "id": "b8AXHs4pzGou"
   },
   "source": [
    "#### Build a 1-dimensional array with movie titles"
   ]
  },
  {
   "cell_type": "code",
   "execution_count": 22,
   "metadata": {},
   "outputs": [],
   "source": [
    "titles = Movies['title']\n",
    "indices = pd.Series(Movies.index, index=Movies['title'])"
   ]
  },
  {
   "cell_type": "markdown",
   "metadata": {
    "colab_type": "text",
    "id": "1x61Q-XTzGox"
   },
   "source": [
    "#### Function that get movie recommendations based on the cosine similarity score of movie genres"
   ]
  },
  {
   "cell_type": "code",
   "execution_count": 23,
   "metadata": {},
   "outputs": [],
   "source": [
    "def genre_recommendations(title):\n",
    "    idx = indices[title]\n",
    "    sim_scores = list(enumerate(cosine_sim[idx]))\n",
    "    sim_scores = sorted(sim_scores, key=lambda x: x[1], reverse=True)\n",
    "    sim_scores = sim_scores[1:21]\n",
    "    movie_indices = [i[0] for i in sim_scores]\n",
    "    return titles.iloc[movie_indices]"
   ]
  },
  {
   "cell_type": "markdown",
   "metadata": {
    "colab_type": "text",
    "id": "ynlgukRYzGoz"
   },
   "source": [
    "Let's try and get the top recommendations for a few movies and see how good the recommendations are."
   ]
  },
  {
   "cell_type": "code",
   "execution_count": 24,
   "metadata": {},
   "outputs": [
    {
     "data": {
      "text/html": [
       "<div>\n",
       "<style scoped>\n",
       "    .dataframe tbody tr th:only-of-type {\n",
       "        vertical-align: middle;\n",
       "    }\n",
       "\n",
       "    .dataframe tbody tr th {\n",
       "        vertical-align: top;\n",
       "    }\n",
       "\n",
       "    .dataframe thead th {\n",
       "        text-align: right;\n",
       "    }\n",
       "</style>\n",
       "<table border=\"1\" class=\"dataframe\">\n",
       "  <thead>\n",
       "    <tr style=\"text-align: right;\">\n",
       "      <th></th>\n",
       "      <th>movie_id</th>\n",
       "      <th>title</th>\n",
       "      <th>genres</th>\n",
       "    </tr>\n",
       "  </thead>\n",
       "  <tbody>\n",
       "    <tr>\n",
       "      <th>0</th>\n",
       "      <td>1</td>\n",
       "      <td>Toy Story (1995)</td>\n",
       "      <td>['Animation', \"Children's\", 'Comedy']</td>\n",
       "    </tr>\n",
       "    <tr>\n",
       "      <th>1</th>\n",
       "      <td>2</td>\n",
       "      <td>Jumanji (1995)</td>\n",
       "      <td>['Adventure', \"Children's\", 'Fantasy']</td>\n",
       "    </tr>\n",
       "    <tr>\n",
       "      <th>2</th>\n",
       "      <td>3</td>\n",
       "      <td>Grumpier Old Men (1995)</td>\n",
       "      <td>['Comedy', 'Romance']</td>\n",
       "    </tr>\n",
       "    <tr>\n",
       "      <th>3</th>\n",
       "      <td>4</td>\n",
       "      <td>Waiting to Exhale (1995)</td>\n",
       "      <td>['Comedy', 'Drama']</td>\n",
       "    </tr>\n",
       "    <tr>\n",
       "      <th>4</th>\n",
       "      <td>5</td>\n",
       "      <td>Father of the Bride Part II (1995)</td>\n",
       "      <td>['Comedy']</td>\n",
       "    </tr>\n",
       "    <tr>\n",
       "      <th>5</th>\n",
       "      <td>6</td>\n",
       "      <td>Heat (1995)</td>\n",
       "      <td>['Action', 'Crime', 'Thriller']</td>\n",
       "    </tr>\n",
       "    <tr>\n",
       "      <th>6</th>\n",
       "      <td>7</td>\n",
       "      <td>Sabrina (1995)</td>\n",
       "      <td>['Comedy', 'Romance']</td>\n",
       "    </tr>\n",
       "    <tr>\n",
       "      <th>7</th>\n",
       "      <td>8</td>\n",
       "      <td>Tom and Huck (1995)</td>\n",
       "      <td>['Adventure', \"Children's\"]</td>\n",
       "    </tr>\n",
       "    <tr>\n",
       "      <th>8</th>\n",
       "      <td>9</td>\n",
       "      <td>Sudden Death (1995)</td>\n",
       "      <td>['Action']</td>\n",
       "    </tr>\n",
       "    <tr>\n",
       "      <th>9</th>\n",
       "      <td>10</td>\n",
       "      <td>GoldenEye (1995)</td>\n",
       "      <td>['Action', 'Adventure', 'Thriller']</td>\n",
       "    </tr>\n",
       "    <tr>\n",
       "      <th>10</th>\n",
       "      <td>11</td>\n",
       "      <td>American President, The (1995)</td>\n",
       "      <td>['Comedy', 'Drama', 'Romance']</td>\n",
       "    </tr>\n",
       "    <tr>\n",
       "      <th>11</th>\n",
       "      <td>12</td>\n",
       "      <td>Dracula: Dead and Loving It (1995)</td>\n",
       "      <td>['Comedy', 'Horror']</td>\n",
       "    </tr>\n",
       "    <tr>\n",
       "      <th>12</th>\n",
       "      <td>13</td>\n",
       "      <td>Balto (1995)</td>\n",
       "      <td>['Animation', \"Children's\"]</td>\n",
       "    </tr>\n",
       "    <tr>\n",
       "      <th>13</th>\n",
       "      <td>14</td>\n",
       "      <td>Nixon (1995)</td>\n",
       "      <td>['Drama']</td>\n",
       "    </tr>\n",
       "    <tr>\n",
       "      <th>14</th>\n",
       "      <td>15</td>\n",
       "      <td>Cutthroat Island (1995)</td>\n",
       "      <td>['Action', 'Adventure', 'Romance']</td>\n",
       "    </tr>\n",
       "    <tr>\n",
       "      <th>15</th>\n",
       "      <td>16</td>\n",
       "      <td>Casino (1995)</td>\n",
       "      <td>['Drama', 'Thriller']</td>\n",
       "    </tr>\n",
       "    <tr>\n",
       "      <th>16</th>\n",
       "      <td>17</td>\n",
       "      <td>Sense and Sensibility (1995)</td>\n",
       "      <td>['Drama', 'Romance']</td>\n",
       "    </tr>\n",
       "    <tr>\n",
       "      <th>17</th>\n",
       "      <td>18</td>\n",
       "      <td>Four Rooms (1995)</td>\n",
       "      <td>['Thriller']</td>\n",
       "    </tr>\n",
       "    <tr>\n",
       "      <th>18</th>\n",
       "      <td>19</td>\n",
       "      <td>Ace Ventura: When Nature Calls (1995)</td>\n",
       "      <td>['Comedy']</td>\n",
       "    </tr>\n",
       "    <tr>\n",
       "      <th>19</th>\n",
       "      <td>20</td>\n",
       "      <td>Money Train (1995)</td>\n",
       "      <td>['Action']</td>\n",
       "    </tr>\n",
       "  </tbody>\n",
       "</table>\n",
       "</div>"
      ],
      "text/plain": [
       "    movie_id                                  title  \\\n",
       "0          1                       Toy Story (1995)   \n",
       "1          2                         Jumanji (1995)   \n",
       "2          3                Grumpier Old Men (1995)   \n",
       "3          4               Waiting to Exhale (1995)   \n",
       "4          5     Father of the Bride Part II (1995)   \n",
       "5          6                            Heat (1995)   \n",
       "6          7                         Sabrina (1995)   \n",
       "7          8                    Tom and Huck (1995)   \n",
       "8          9                    Sudden Death (1995)   \n",
       "9         10                       GoldenEye (1995)   \n",
       "10        11         American President, The (1995)   \n",
       "11        12     Dracula: Dead and Loving It (1995)   \n",
       "12        13                           Balto (1995)   \n",
       "13        14                           Nixon (1995)   \n",
       "14        15                Cutthroat Island (1995)   \n",
       "15        16                          Casino (1995)   \n",
       "16        17           Sense and Sensibility (1995)   \n",
       "17        18                      Four Rooms (1995)   \n",
       "18        19  Ace Ventura: When Nature Calls (1995)   \n",
       "19        20                     Money Train (1995)   \n",
       "\n",
       "                                    genres  \n",
       "0    ['Animation', \"Children's\", 'Comedy']  \n",
       "1   ['Adventure', \"Children's\", 'Fantasy']  \n",
       "2                    ['Comedy', 'Romance']  \n",
       "3                      ['Comedy', 'Drama']  \n",
       "4                               ['Comedy']  \n",
       "5          ['Action', 'Crime', 'Thriller']  \n",
       "6                    ['Comedy', 'Romance']  \n",
       "7              ['Adventure', \"Children's\"]  \n",
       "8                               ['Action']  \n",
       "9      ['Action', 'Adventure', 'Thriller']  \n",
       "10          ['Comedy', 'Drama', 'Romance']  \n",
       "11                    ['Comedy', 'Horror']  \n",
       "12             ['Animation', \"Children's\"]  \n",
       "13                               ['Drama']  \n",
       "14      ['Action', 'Adventure', 'Romance']  \n",
       "15                   ['Drama', 'Thriller']  \n",
       "16                    ['Drama', 'Romance']  \n",
       "17                            ['Thriller']  \n",
       "18                              ['Comedy']  \n",
       "19                              ['Action']  "
      ]
     },
     "execution_count": 24,
     "metadata": {},
     "output_type": "execute_result"
    }
   ],
   "source": [
    "Movies.head(20)"
   ]
  },
  {
   "cell_type": "code",
   "execution_count": 25,
   "metadata": {},
   "outputs": [
    {
     "data": {
      "text/plain": [
       "241                               Gumby: The Movie (1995)\n",
       "310                             Swan Princess, The (1994)\n",
       "592                                      Pinocchio (1940)\n",
       "612                                Aristocats, The (1970)\n",
       "700                               Oliver & Company (1988)\n",
       "876     Land Before Time III: The Time of the Great Gi...\n",
       "1010          Winnie the Pooh and the Blustery Day (1968)\n",
       "1012                       Sword in the Stone, The (1963)\n",
       "1020                        Fox and the Hound, The (1981)\n",
       "1838                                         Mulan (1998)\n",
       "1949                                         Bambi (1942)\n",
       "1964                           Black Cauldron, The (1985)\n",
       "1979                    Great Mouse Detective, The (1986)\n",
       "2016                                101 Dalmatians (1961)\n",
       "2020                      Rescuers Down Under, The (1990)\n",
       "2021                                 Rescuers, The (1977)\n",
       "2054                         All Dogs Go to Heaven (1989)\n",
       "2068                               Charlotte's Web (1973)\n",
       "2070                           Secret of NIMH, The (1982)\n",
       "2225                                          Antz (1998)\n",
       "Name: title, dtype: object"
      ]
     },
     "execution_count": 25,
     "metadata": {},
     "output_type": "execute_result"
    }
   ],
   "source": [
    "genre_recommendations(\"Balto (1995)\")"
   ]
  },
  {
   "cell_type": "code",
   "execution_count": 26,
   "metadata": {},
   "outputs": [
    {
     "data": {
      "text/plain": [
       "1050            Aladdin and the King of Thieves (1996)\n",
       "2072                          American Tail, An (1986)\n",
       "2073        American Tail: Fievel Goes West, An (1991)\n",
       "2285                         Rugrats Movie, The (1998)\n",
       "2286                              Bug's Life, A (1998)\n",
       "3045                                Toy Story 2 (1999)\n",
       "3542                             Saludos Amigos (1943)\n",
       "3682                                Chicken Run (2000)\n",
       "3685    Adventures of Rocky and Bullwinkle, The (2000)\n",
       "236                              Goofy Movie, A (1995)\n",
       "Name: title, dtype: object"
      ]
     },
     "execution_count": 26,
     "metadata": {},
     "output_type": "execute_result"
    }
   ],
   "source": [
    "genre_recommendations('Toy Story (1995)').head(10)"
   ]
  },
  {
   "cell_type": "code",
   "execution_count": 27,
   "metadata": {},
   "outputs": [
    {
     "data": {
      "text/plain": [
       "461            Heaven & Earth (1993)\n",
       "1204        Full Metal Jacket (1987)\n",
       "1214     Boat, The (Das Boot) (1981)\n",
       "1222                    Glory (1989)\n",
       "1545                G.I. Jane (1997)\n",
       "1959      Saving Private Ryan (1998)\n",
       "2358       Thin Red Line, The (1998)\n",
       "2993         Longest Day, The (1962)\n",
       "3559            Flying Tigers (1942)\n",
       "3574    Fighting Seabees, The (1944)\n",
       "Name: title, dtype: object"
      ]
     },
     "execution_count": 27,
     "metadata": {},
     "output_type": "execute_result"
    }
   ],
   "source": [
    "genre_recommendations('Saving Private Ryan (1998)').head(10)"
   ]
  },
  {
   "cell_type": "markdown",
   "metadata": {
    "colab_type": "text",
    "id": "SH5aS6-7zGo-"
   },
   "source": [
    "As we can see, we have quite a decent list of recommendation for **Balto** (Animation), **Toy Story** (Animation, Children's, Comedy), and **Saving Private Ryan** (Action, Thriller, War).\n",
    "\n",
    "Overall, here are the pros of using content-based recommendation:\n",
    "* No need for data on other users, thus no cold-start or sparsity problems.\n",
    "* Can recommend to users with unique tastes.\n",
    "* Can recommend new & unpopular items.\n",
    "* Can provide explanations for recommended items by listing content-features that caused an item to be recommended (in this case, movie genres)\n",
    "\n",
    "However, there are some cons of using this approach:\n",
    "* Finding the appropriate features is hard.\n",
    "* Does not recommend items outside a user's content profile.\n",
    "* Unable to exploit quality judgments of other users."
   ]
  },
  {
   "cell_type": "markdown",
   "metadata": {
    "colab_type": "text",
    "id": "yhhhfXiNzGo-"
   },
   "source": [
    "<a id=section7></a>\n",
    "# Collaborative Filtering Recommendation Model\n",
    "\n",
    "### Implementation\n",
    "We will use the file **ratings.csv** first as it contains User ID, Movie IDs and Ratings. These three elements are all we need for determining the similarity of the users based on their ratings for a particular movie.\n",
    "\n",
    "First, lets do some quick data processing:"
   ]
  },
  {
   "cell_type": "code",
   "execution_count": 28,
   "metadata": {},
   "outputs": [],
   "source": [
    "# Fill NaN values in user_id and movie_id column with 0\n",
    "UserRatings['user_id'] = UserRatings['user_id'].fillna(0)\n",
    "UserRatings['movie_id'] = UserRatings['movie_id'].fillna(0)\n",
    "\n",
    "# Replace NaN values in rating column with average of all values\n",
    "UserRatings['rating'] = UserRatings['rating'].fillna(UserRatings['rating'].mean())"
   ]
  },
  {
   "cell_type": "markdown",
   "metadata": {
    "colab_type": "text",
    "id": "OFfhnlmczGpB"
   },
   "source": [
    "Due to the limited computing power, we will build the recommender system using only a subset of the ratings. We will take a random sample of 20,000 ratings (2%) from the 1M ratings."
   ]
  },
  {
   "cell_type": "code",
   "execution_count": 29,
   "metadata": {},
   "outputs": [
    {
     "name": "stdout",
     "output_type": "stream",
     "text": [
      "<class 'pandas.core.frame.DataFrame'>\n",
      "Int64Index: 20004 entries, 347419 to 844233\n",
      "Data columns (total 3 columns):\n",
      " #   Column    Non-Null Count  Dtype\n",
      "---  ------    --------------  -----\n",
      " 0   user_id   20004 non-null  int64\n",
      " 1   movie_id  20004 non-null  int64\n",
      " 2   rating    20004 non-null  int64\n",
      "dtypes: int64(3)\n",
      "memory usage: 625.1 KB\n",
      "None\n"
     ]
    }
   ],
   "source": [
    "# Randomly sample 1% of the ratings dataset\n",
    "small_data = UserRatings.sample(frac=0.02)\n",
    "\n",
    "# Check the sample info\n",
    "print(small_data.info())"
   ]
  },
  {
   "cell_type": "markdown",
   "metadata": {
    "colab_type": "text",
    "id": "c4-WL_lYzGpE"
   },
   "source": [
    "<a id=section8></a>\n",
    "# Splitting the data"
   ]
  },
  {
   "cell_type": "code",
   "execution_count": 30,
   "metadata": {},
   "outputs": [],
   "source": [
    "train_data, test_data = cv.train_test_split(small_data, test_size=0.2)"
   ]
  },
  {
   "cell_type": "markdown",
   "metadata": {
    "colab_type": "text",
    "id": "X3Xdm-PwzGpH"
   },
   "source": [
    "Now, we need to create a user-item matrix. Since we have splitted the data into testing and training, we need to create two matrices. The training matrix contains 80% of the ratings and the testing matrix contains 20% of the ratings."
   ]
  },
  {
   "cell_type": "code",
   "execution_count": 31,
   "metadata": {},
   "outputs": [
    {
     "name": "stdout",
     "output_type": "stream",
     "text": [
      "(16003, 3)\n",
      "(4001, 3)\n"
     ]
    }
   ],
   "source": [
    "# Create two user-item matrices, one for training and another for testing\n",
    "train_data_matrix = train_data[['user_id', 'movie_id', 'rating']].values\n",
    "test_data_matrix = test_data[['user_id', 'movie_id', 'rating']].values\n",
    "\n",
    "# Check their shape\n",
    "print(train_data_matrix.shape)\n",
    "print(test_data_matrix.shape)"
   ]
  },
  {
   "cell_type": "markdown",
   "metadata": {
    "colab_type": "text",
    "id": "_nKB7n4tzGpJ"
   },
   "source": [
    "Now, we use the **pairwise_distances** function from sklearn to calculate the [Pearson Correlation Coefficient](https://stackoverflow.com/questions/1838806/euclidean-distance-vs-pearson-correlation-vs-cosine-similarity). This method provides a safe way to take a distance matrix as input, while preserving compatibility with many other algorithms that take a vector array."
   ]
  },
  {
   "cell_type": "code",
   "execution_count": 32,
   "metadata": {},
   "outputs": [
    {
     "name": "stdout",
     "output_type": "stream",
     "text": [
      "[[1.         0.90585762 0.79893665 0.99844034]\n",
      " [0.90585762 1.         0.97847168 0.88079659]\n",
      " [0.79893665 0.97847168 1.         0.76411412]\n",
      " [0.99844034 0.88079659 0.76411412 1.        ]]\n"
     ]
    }
   ],
   "source": [
    "# User Similarity Matrix\n",
    "user_correlation = 1 - pairwise_distances(train_data, metric='correlation')\n",
    "user_correlation[np.isnan(user_correlation)] = 0\n",
    "print(user_correlation[:4, :4])"
   ]
  },
  {
   "cell_type": "code",
   "execution_count": 33,
   "metadata": {},
   "outputs": [
    {
     "name": "stdout",
     "output_type": "stream",
     "text": [
      "[[ 1.         -0.01929461  0.00361342]\n",
      " [-0.01929461  1.         -0.06198766]\n",
      " [ 0.00361342 -0.06198766  1.        ]]\n"
     ]
    }
   ],
   "source": [
    "# Item Similarity Matrix\n",
    "item_correlation = 1 - pairwise_distances(train_data_matrix.T, metric='correlation')\n",
    "item_correlation[np.isnan(item_correlation)] = 0\n",
    "print(item_correlation[:4, :4])"
   ]
  },
  {
   "cell_type": "markdown",
   "metadata": {
    "colab_type": "text",
    "id": "LIFm5Vx_zGpQ"
   },
   "source": [
    "- Using the similarity matrix, we can now predict the ratings that were not included with the data. \n",
    "- Using these predictions, we can then compare them with the test data to attempt to validate the quality of our recommender model.\n",
    "\n",
    "For the user-user CF case, we will look at the similarity between 2 users (A and B, for example) as weights that are multiplied by the ratings of a similar user B (corrected for the average rating of that user). \n",
    "- We also need to normalize it so that the ratings stay between 1 and 5 and, as a final step, sum the average ratings for the user that we are trying to predict. \n",
    "- The idea here is that some users may tend always to give high or low ratings to all movies. \n",
    "- The relative difference in the ratings that these users give is more important than the absolute values. "
   ]
  },
  {
   "cell_type": "code",
   "execution_count": 34,
   "metadata": {},
   "outputs": [],
   "source": [
    "# Predict Rating\n",
    "def predict(ratings, similarity, type='user'):\n",
    "    if type == 'user':\n",
    "        mean_user_rating = ratings.mean(axis=1)\n",
    "        # Use np.newaxis so that mean_user_rating has same format as ratings\n",
    "        ratings_diff = (ratings - mean_user_rating[:, np.newaxis])\n",
    "        pred = mean_user_rating[:, np.newaxis] + similarity.dot(ratings_diff) / np.array([np.abs(similarity).sum(axis=1)]).T\n",
    "    elif type == 'item':\n",
    "        pred = ratings.dot(similarity) / np.array([np.abs(similarity).sum(axis=1)])\n",
    "    return pred"
   ]
  },
  {
   "cell_type": "markdown",
   "metadata": {
    "colab_type": "text",
    "id": "SOHvXv2SzGpT"
   },
   "source": [
    "<a id=section9></a>\n",
    "# Model Evaluation"
   ]
  },
  {
   "cell_type": "code",
   "execution_count": 35,
   "metadata": {},
   "outputs": [],
   "source": [
    "# Function to calculate RMSE\n",
    "def rmse(pred, actual):\n",
    "    # Ignore nonzero terms.\n",
    "    pred = pred[actual.nonzero()].flatten()\n",
    "    actual = actual[actual.nonzero()].flatten()\n",
    "    return sqrt(mean_squared_error(pred, actual))"
   ]
  },
  {
   "cell_type": "code",
   "execution_count": 36,
   "metadata": {},
   "outputs": [
    {
     "name": "stdout",
     "output_type": "stream",
     "text": [
      "User-based CF RMSE: 1417.850617854764\n",
      "Item-based CF RMSE: 1638.9319054756845\n"
     ]
    }
   ],
   "source": [
    "# Predict ratings on the training data with both similarity score\n",
    "user_prediction = predict(train_data_matrix, user_correlation, type='user')\n",
    "item_prediction = predict(train_data_matrix, item_correlation, type='item')\n",
    "\n",
    "# RMSE on the test data\n",
    "print('User-based CF RMSE: ' + str(rmse(user_prediction, test_data_matrix)))\n",
    "print('Item-based CF RMSE: ' + str(rmse(item_prediction, test_data_matrix)))"
   ]
  },
  {
   "cell_type": "code",
   "execution_count": 37,
   "metadata": {},
   "outputs": [
    {
     "name": "stdout",
     "output_type": "stream",
     "text": [
      "User-based CF RMSE: 697.8523367957871\n",
      "Item-based CF RMSE: 155.34217337743684\n"
     ]
    }
   ],
   "source": [
    "# RMSE on the train data\n",
    "print('User-based CF RMSE: ' + str(rmse(user_prediction, train_data_matrix)))\n",
    "print('Item-based CF RMSE: ' + str(rmse(item_prediction, train_data_matrix)))"
   ]
  },
  {
   "cell_type": "markdown",
   "metadata": {
    "colab_type": "text",
    "id": "IS5ofZ6mzGpa"
   },
   "source": [
    "RMSE of training of model is a metric which measure how much the signal and the noise is explained by the model. We noticed that our RMSE is quite big. We suppose we might have overfitted the training data.\n",
    "\n",
    "Overall, Memory-based Collaborative Filtering is easy to implement and produce reasonable prediction quality. However, there are some drawbacks of this approach:\n",
    "\n",
    "* It doesn't address the well-known cold-start problem, that is when new user or new item enters the system. \n",
    "* It can't deal with sparse data, meaning it's hard to find users that have rated the same items.\n",
    "* It suffers when new users or items that don't have any ratings enter the system.\n",
    "* It tends to recommend popular items."
   ]
  },
  {
   "cell_type": "markdown",
   "metadata": {
    "colab_type": "text",
    "id": "fE2a55X4zGph"
   },
   "source": [
    "<a id=section10></a>\n",
    "# Model based Collaborative Filtering"
   ]
  },
  {
   "cell_type": "markdown",
   "metadata": {
    "colab_type": "text",
    "id": "Q4deX-vBzGph"
   },
   "source": [
    "### Using K-NN"
   ]
  },
  {
   "cell_type": "code",
   "execution_count": 38,
   "metadata": {},
   "outputs": [
    {
     "name": "stdout",
     "output_type": "stream",
     "text": [
      "Number of users = 6040 | Number of movies = 3706\n"
     ]
    }
   ],
   "source": [
    "no_of_users = UserRatings.user_id.unique().shape[0]\n",
    "no_of_movies = UserRatings.movie_id.unique().shape[0]\n",
    "print ('Number of users = ' + str(no_of_users) + ' | Number of movies = ' + str(no_of_movies))"
   ]
  },
  {
   "cell_type": "code",
   "execution_count": 39,
   "metadata": {},
   "outputs": [
    {
     "data": {
      "text/html": [
       "<div>\n",
       "<style scoped>\n",
       "    .dataframe tbody tr th:only-of-type {\n",
       "        vertical-align: middle;\n",
       "    }\n",
       "\n",
       "    .dataframe tbody tr th {\n",
       "        vertical-align: top;\n",
       "    }\n",
       "\n",
       "    .dataframe thead th {\n",
       "        text-align: right;\n",
       "    }\n",
       "</style>\n",
       "<table border=\"1\" class=\"dataframe\">\n",
       "  <thead>\n",
       "    <tr style=\"text-align: right;\">\n",
       "      <th>movie_id</th>\n",
       "      <th>1</th>\n",
       "      <th>2</th>\n",
       "      <th>3</th>\n",
       "      <th>4</th>\n",
       "      <th>5</th>\n",
       "      <th>6</th>\n",
       "      <th>7</th>\n",
       "      <th>8</th>\n",
       "      <th>9</th>\n",
       "      <th>10</th>\n",
       "      <th>...</th>\n",
       "      <th>3943</th>\n",
       "      <th>3944</th>\n",
       "      <th>3945</th>\n",
       "      <th>3946</th>\n",
       "      <th>3947</th>\n",
       "      <th>3948</th>\n",
       "      <th>3949</th>\n",
       "      <th>3950</th>\n",
       "      <th>3951</th>\n",
       "      <th>3952</th>\n",
       "    </tr>\n",
       "    <tr>\n",
       "      <th>user_id</th>\n",
       "      <th></th>\n",
       "      <th></th>\n",
       "      <th></th>\n",
       "      <th></th>\n",
       "      <th></th>\n",
       "      <th></th>\n",
       "      <th></th>\n",
       "      <th></th>\n",
       "      <th></th>\n",
       "      <th></th>\n",
       "      <th></th>\n",
       "      <th></th>\n",
       "      <th></th>\n",
       "      <th></th>\n",
       "      <th></th>\n",
       "      <th></th>\n",
       "      <th></th>\n",
       "      <th></th>\n",
       "      <th></th>\n",
       "      <th></th>\n",
       "      <th></th>\n",
       "    </tr>\n",
       "  </thead>\n",
       "  <tbody>\n",
       "    <tr>\n",
       "      <th>1</th>\n",
       "      <td>5.0</td>\n",
       "      <td>0.0</td>\n",
       "      <td>0.0</td>\n",
       "      <td>0.0</td>\n",
       "      <td>0.0</td>\n",
       "      <td>0.0</td>\n",
       "      <td>0.0</td>\n",
       "      <td>0.0</td>\n",
       "      <td>0.0</td>\n",
       "      <td>0.0</td>\n",
       "      <td>...</td>\n",
       "      <td>0.0</td>\n",
       "      <td>0.0</td>\n",
       "      <td>0.0</td>\n",
       "      <td>0.0</td>\n",
       "      <td>0.0</td>\n",
       "      <td>0.0</td>\n",
       "      <td>0.0</td>\n",
       "      <td>0.0</td>\n",
       "      <td>0.0</td>\n",
       "      <td>0.0</td>\n",
       "    </tr>\n",
       "    <tr>\n",
       "      <th>2</th>\n",
       "      <td>0.0</td>\n",
       "      <td>0.0</td>\n",
       "      <td>0.0</td>\n",
       "      <td>0.0</td>\n",
       "      <td>0.0</td>\n",
       "      <td>0.0</td>\n",
       "      <td>0.0</td>\n",
       "      <td>0.0</td>\n",
       "      <td>0.0</td>\n",
       "      <td>0.0</td>\n",
       "      <td>...</td>\n",
       "      <td>0.0</td>\n",
       "      <td>0.0</td>\n",
       "      <td>0.0</td>\n",
       "      <td>0.0</td>\n",
       "      <td>0.0</td>\n",
       "      <td>0.0</td>\n",
       "      <td>0.0</td>\n",
       "      <td>0.0</td>\n",
       "      <td>0.0</td>\n",
       "      <td>0.0</td>\n",
       "    </tr>\n",
       "    <tr>\n",
       "      <th>3</th>\n",
       "      <td>0.0</td>\n",
       "      <td>0.0</td>\n",
       "      <td>0.0</td>\n",
       "      <td>0.0</td>\n",
       "      <td>0.0</td>\n",
       "      <td>0.0</td>\n",
       "      <td>0.0</td>\n",
       "      <td>0.0</td>\n",
       "      <td>0.0</td>\n",
       "      <td>0.0</td>\n",
       "      <td>...</td>\n",
       "      <td>0.0</td>\n",
       "      <td>0.0</td>\n",
       "      <td>0.0</td>\n",
       "      <td>0.0</td>\n",
       "      <td>0.0</td>\n",
       "      <td>0.0</td>\n",
       "      <td>0.0</td>\n",
       "      <td>0.0</td>\n",
       "      <td>0.0</td>\n",
       "      <td>0.0</td>\n",
       "    </tr>\n",
       "    <tr>\n",
       "      <th>4</th>\n",
       "      <td>0.0</td>\n",
       "      <td>0.0</td>\n",
       "      <td>0.0</td>\n",
       "      <td>0.0</td>\n",
       "      <td>0.0</td>\n",
       "      <td>0.0</td>\n",
       "      <td>0.0</td>\n",
       "      <td>0.0</td>\n",
       "      <td>0.0</td>\n",
       "      <td>0.0</td>\n",
       "      <td>...</td>\n",
       "      <td>0.0</td>\n",
       "      <td>0.0</td>\n",
       "      <td>0.0</td>\n",
       "      <td>0.0</td>\n",
       "      <td>0.0</td>\n",
       "      <td>0.0</td>\n",
       "      <td>0.0</td>\n",
       "      <td>0.0</td>\n",
       "      <td>0.0</td>\n",
       "      <td>0.0</td>\n",
       "    </tr>\n",
       "    <tr>\n",
       "      <th>5</th>\n",
       "      <td>0.0</td>\n",
       "      <td>0.0</td>\n",
       "      <td>0.0</td>\n",
       "      <td>0.0</td>\n",
       "      <td>0.0</td>\n",
       "      <td>2.0</td>\n",
       "      <td>0.0</td>\n",
       "      <td>0.0</td>\n",
       "      <td>0.0</td>\n",
       "      <td>0.0</td>\n",
       "      <td>...</td>\n",
       "      <td>0.0</td>\n",
       "      <td>0.0</td>\n",
       "      <td>0.0</td>\n",
       "      <td>0.0</td>\n",
       "      <td>0.0</td>\n",
       "      <td>0.0</td>\n",
       "      <td>0.0</td>\n",
       "      <td>0.0</td>\n",
       "      <td>0.0</td>\n",
       "      <td>0.0</td>\n",
       "    </tr>\n",
       "  </tbody>\n",
       "</table>\n",
       "<p>5 rows × 3706 columns</p>\n",
       "</div>"
      ],
      "text/plain": [
       "movie_id  1     2     3     4     5     6     7     8     9     10    ...  \\\n",
       "user_id                                                               ...   \n",
       "1          5.0   0.0   0.0   0.0   0.0   0.0   0.0   0.0   0.0   0.0  ...   \n",
       "2          0.0   0.0   0.0   0.0   0.0   0.0   0.0   0.0   0.0   0.0  ...   \n",
       "3          0.0   0.0   0.0   0.0   0.0   0.0   0.0   0.0   0.0   0.0  ...   \n",
       "4          0.0   0.0   0.0   0.0   0.0   0.0   0.0   0.0   0.0   0.0  ...   \n",
       "5          0.0   0.0   0.0   0.0   0.0   2.0   0.0   0.0   0.0   0.0  ...   \n",
       "\n",
       "movie_id  3943  3944  3945  3946  3947  3948  3949  3950  3951  3952  \n",
       "user_id                                                               \n",
       "1          0.0   0.0   0.0   0.0   0.0   0.0   0.0   0.0   0.0   0.0  \n",
       "2          0.0   0.0   0.0   0.0   0.0   0.0   0.0   0.0   0.0   0.0  \n",
       "3          0.0   0.0   0.0   0.0   0.0   0.0   0.0   0.0   0.0   0.0  \n",
       "4          0.0   0.0   0.0   0.0   0.0   0.0   0.0   0.0   0.0   0.0  \n",
       "5          0.0   0.0   0.0   0.0   0.0   0.0   0.0   0.0   0.0   0.0  \n",
       "\n",
       "[5 rows x 3706 columns]"
      ]
     },
     "execution_count": 39,
     "metadata": {},
     "output_type": "execute_result"
    }
   ],
   "source": [
    "Ratings = UserRatings.pivot(index = 'user_id', columns ='movie_id', values = 'rating').fillna(0)\n",
    "Ratings.head()"
   ]
  },
  {
   "cell_type": "code",
   "execution_count": 40,
   "metadata": {},
   "outputs": [
    {
     "data": {
      "text/plain": [
       "NearestNeighbors(algorithm='brute', leaf_size=30, metric='cosine',\n",
       "                 metric_params=None, n_jobs=None, n_neighbors=5, p=2,\n",
       "                 radius=1.0)"
      ]
     },
     "execution_count": 40,
     "metadata": {},
     "output_type": "execute_result"
    }
   ],
   "source": [
    "model_knn = NearestNeighbors(metric = 'cosine', algorithm = 'brute')\n",
    "model_knn.fit(Ratings)"
   ]
  },
  {
   "cell_type": "markdown",
   "metadata": {
    "colab_type": "text",
    "id": "s_OYKBdvzGpj"
   },
   "source": [
    "#### Testing our model and making some recommendations"
   ]
  },
  {
   "cell_type": "code",
   "execution_count": 41,
   "metadata": {},
   "outputs": [
    {
     "data": {
      "text/plain": [
       "1"
      ]
     },
     "execution_count": 41,
     "metadata": {},
     "output_type": "execute_result"
    }
   ],
   "source": [
    "Ratings.index[0]"
   ]
  },
  {
   "cell_type": "code",
   "execution_count": 50,
   "metadata": {},
   "outputs": [
    {
     "name": "stdout",
     "output_type": "stream",
     "text": [
      "Recommendation for 2698:\n",
      "\n",
      "1: 2849, with distance of 0.662800148985436:\n",
      "2: 1525, with distance of 0.6800071574041189:\n",
      "3: 1594, with distance of 0.693356045067227:\n",
      "4: 2185, with distance of 0.7125802273568855:\n",
      "5: 3253, with distance of 0.7216944887555055:\n"
     ]
    }
   ],
   "source": [
    "query_index = np.random.choice(Ratings.shape[0])\n",
    "distances, indices = model_knn.kneighbors(Ratings.iloc[query_index, :].values.reshape(1, -1), n_neighbors = 6)\n",
    "\n",
    "for i in range(0, len(distances.flatten())):\n",
    "    if i == 0:\n",
    "        print('Recommendation for {0}:\\n'.format(Ratings.index[query_index]))\n",
    "    else:\n",
    "        print('{0}: {1}, with distance of {2}:'.format(i, Ratings.index[indices.flatten()[i]],distances.flatten()[i]))"
   ]
  },
  {
   "cell_type": "markdown",
   "metadata": {
    "colab_type": "text",
    "id": "3amJ4zypzGpn"
   },
   "source": [
    "#### Checking sparisty level of the dataset"
   ]
  },
  {
   "cell_type": "code",
   "execution_count": 47,
   "metadata": {},
   "outputs": [
    {
     "name": "stdout",
     "output_type": "stream",
     "text": [
      "1000209 6040 3706\n"
     ]
    }
   ],
   "source": [
    "print(len(UserRatings) , no_of_users , no_of_movies)"
   ]
  },
  {
   "cell_type": "code",
   "execution_count": 44,
   "metadata": {},
   "outputs": [
    {
     "name": "stdout",
     "output_type": "stream",
     "text": [
      "The sparsity level of Movie Lens 1M dataset is 95.5%\n"
     ]
    }
   ],
   "source": [
    "sparsity = round(1.0 - len(UserRatings) / float(no_of_users * no_of_movies), 3)\n",
    "print('The sparsity level of Movie Lens 1M dataset is ' +  str(sparsity * 100) + '%')"
   ]
  },
  {
   "cell_type": "markdown",
   "metadata": {
    "colab_type": "text",
    "id": "0lY7r8EwzGqM"
   },
   "source": [
    "<a id=section11></a>\n",
    "# Conclusion\n",
    "\n",
    "- Here, we can see that the recommendations (movie_id) are different for each user. So personalization exists, i.e. for different users we have a different set of recommendations.\n",
    "\n",
    "\n",
    "- In this model, we do not have the ratings for each movie given by each user. We must find a way to predict all these missing ratings. For that, we have to find a set of features which can define how a user rates the movies. These are called **latent features**. \n",
    "\n",
    "\n",
    "- We need to find a way to extract the most important latent features from the the existing features. "
   ]
  }
 ],
 "metadata": {
  "kernelspec": {
   "display_name": "Python 3",
   "language": "python",
   "name": "python3"
  },
  "language_info": {
   "codemirror_mode": {
    "name": "ipython",
    "version": 3
   },
   "file_extension": ".py",
   "mimetype": "text/x-python",
   "name": "python",
   "nbconvert_exporter": "python",
   "pygments_lexer": "ipython3",
   "version": "3.7.4"
  },
  "toc": {
   "base_numbering": 1,
   "nav_menu": {},
   "number_sections": true,
   "sideBar": true,
   "skip_h1_title": false,
   "title_cell": "Table of Contents",
   "title_sidebar": "Contents",
   "toc_cell": true,
   "toc_position": {},
   "toc_section_display": true,
   "toc_window_display": false
  }
 },
 "nbformat": 4,
 "nbformat_minor": 2
}
